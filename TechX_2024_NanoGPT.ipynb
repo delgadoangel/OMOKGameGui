{
  "nbformat": 4,
  "nbformat_minor": 0,
  "metadata": {
    "colab": {
      "provenance": [],
      "authorship_tag": "ABX9TyMpmbEWtcpP1ZW3TsU9dcZe",
      "include_colab_link": true
    },
    "kernelspec": {
      "name": "python3",
      "display_name": "Python 3"
    },
    "language_info": {
      "name": "python"
    }
  },
  "cells": [
    {
      "cell_type": "markdown",
      "metadata": {
        "id": "view-in-github",
        "colab_type": "text"
      },
      "source": [
        "<a href=\"https://colab.research.google.com/github/delgadoangel/OMOKGameGui/blob/master/TechX_2024_NanoGPT.ipynb\" target=\"_parent\"><img src=\"https://colab.research.google.com/assets/colab-badge.svg\" alt=\"Open In Colab\"/></a>"
      ]
    },
    {
      "cell_type": "code",
      "execution_count": 1,
      "metadata": {
        "colab": {
          "base_uri": "https://localhost:8080/"
        },
        "id": "vmlol_JCmjCz",
        "outputId": "a3a6fd51-9adf-4d89-b699-1c0ec20ef702"
      },
      "outputs": [
        {
          "output_type": "stream",
          "name": "stdout",
          "text": [
            "Hello Tech Exchange!\n"
          ]
        }
      ],
      "source": [
        "print(\"Hello Tech Exchange!\")"
      ]
    }
  ]
}